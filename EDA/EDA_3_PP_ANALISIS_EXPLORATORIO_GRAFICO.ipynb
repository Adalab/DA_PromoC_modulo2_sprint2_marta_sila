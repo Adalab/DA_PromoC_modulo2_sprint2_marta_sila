{
 "cells": [
  {
   "cell_type": "code",
   "execution_count": 1,
   "metadata": {},
   "outputs": [],
   "source": [
    "import pandas as pd\n",
    "import numpy as np\n",
    "import seaborn as sns\n",
    "import matplotlib.pyplot as plt\n",
    "import sidetable "
   ]
  },
  {
   "attachments": {},
   "cell_type": "markdown",
   "metadata": {},
   "source": [
    "**Pair Programming EDA III**"
   ]
  },
  {
   "attachments": {},
   "cell_type": "markdown",
   "metadata": {},
   "source": [
    "Hipótesis:\n",
    "\n",
    "Antes de seguir, recordamos las preguntas que nos planteamos al principio del pair programming de EDA para dirigir nuestro análisis:\n",
    "\n",
    "- ¿Es Australia es el sitio más peligroso y letal para estar relajada en la playa?\n",
    "\n",
    "- ¿Hay diferencias entre los paises en los ataques a hombres y mujeres?\n",
    "\n",
    "- ¿Cuáles son las edades que más sufren ataques?\n",
    "\n",
    "- Independientemente de la edad, sufren los hombres más ataques que las mujeres?\n",
    "\n",
    "- ¿En qué mes ocurren más ataques?\n",
    "\n",
    "- ¿Cuál es la relación entre la especie y el tipo de ataque (si es fatal o no)?\n",
    "\n",
    "- ¿Cómo han evolucionado los ataques a lo largo del tiempo?\n",
    "\n",
    "De todo esto, nos damos cuenta que solo tenemos que limpiar algunas de las columnas, en concreto age, species, country, fatal, year, sex. Reducimos esto a una tabla."
   ]
  },
  {
   "cell_type": "code",
   "execution_count": 2,
   "metadata": {},
   "outputs": [
    {
     "data": {
      "text/html": [
       "<div>\n",
       "<style scoped>\n",
       "    .dataframe tbody tr th:only-of-type {\n",
       "        vertical-align: middle;\n",
       "    }\n",
       "\n",
       "    .dataframe tbody tr th {\n",
       "        vertical-align: top;\n",
       "    }\n",
       "\n",
       "    .dataframe thead th {\n",
       "        text-align: right;\n",
       "    }\n",
       "</style>\n",
       "<table border=\"1\" class=\"dataframe\">\n",
       "  <thead>\n",
       "    <tr style=\"text-align: right;\">\n",
       "      <th></th>\n",
       "      <th>YEAR</th>\n",
       "      <th>COUNTRY</th>\n",
       "      <th>SEX_</th>\n",
       "      <th>AGE</th>\n",
       "      <th>SPECIES_</th>\n",
       "      <th>fecha</th>\n",
       "      <th>FATALIDAD</th>\n",
       "    </tr>\n",
       "  </thead>\n",
       "  <tbody>\n",
       "    <tr>\n",
       "      <th>0</th>\n",
       "      <td>2018</td>\n",
       "      <td>usa</td>\n",
       "      <td>F</td>\n",
       "      <td>57</td>\n",
       "      <td>White shark</td>\n",
       "      <td>NaN</td>\n",
       "      <td>N</td>\n",
       "    </tr>\n",
       "    <tr>\n",
       "      <th>1</th>\n",
       "      <td>2018</td>\n",
       "      <td>brazil</td>\n",
       "      <td>M</td>\n",
       "      <td>18</td>\n",
       "      <td>Tiger shark</td>\n",
       "      <td>NaN</td>\n",
       "      <td>N</td>\n",
       "    </tr>\n",
       "    <tr>\n",
       "      <th>2</th>\n",
       "      <td>2018</td>\n",
       "      <td>usa</td>\n",
       "      <td>M</td>\n",
       "      <td>15</td>\n",
       "      <td>Bull shark, 6'</td>\n",
       "      <td>NaN</td>\n",
       "      <td>N</td>\n",
       "    </tr>\n",
       "    <tr>\n",
       "      <th>3</th>\n",
       "      <td>2018</td>\n",
       "      <td>australia</td>\n",
       "      <td>M</td>\n",
       "      <td>32</td>\n",
       "      <td>Grey reef shark</td>\n",
       "      <td>NaN</td>\n",
       "      <td>N</td>\n",
       "    </tr>\n",
       "    <tr>\n",
       "      <th>4</th>\n",
       "      <td>2018</td>\n",
       "      <td>england</td>\n",
       "      <td>M</td>\n",
       "      <td>21</td>\n",
       "      <td>Invalid incident</td>\n",
       "      <td>NaN</td>\n",
       "      <td>N</td>\n",
       "    </tr>\n",
       "  </tbody>\n",
       "</table>\n",
       "</div>"
      ],
      "text/plain": [
       "   YEAR    COUNTRY SEX_ AGE          SPECIES_ fecha FATALIDAD\n",
       "0  2018        usa    F  57       White shark   NaN         N\n",
       "1  2018     brazil    M  18       Tiger shark   NaN         N\n",
       "2  2018        usa    M  15    Bull shark, 6'   NaN         N\n",
       "3  2018  australia    M  32   Grey reef shark   NaN         N\n",
       "4  2018    england    M  21  Invalid incident   NaN         N"
      ]
     },
     "execution_count": 2,
     "metadata": {},
     "output_type": "execute_result"
    }
   ],
   "source": [
    "df = pd.read_csv(\"../LIMPIEZA/df_interesantes.csv\", index_col=0)\n",
    "df.head()"
   ]
  },
  {
   "attachments": {},
   "cell_type": "markdown",
   "metadata": {},
   "source": [
    "Objetivos:\n",
    "\n",
    "En el ejercicio de hoy tendremos que contestar a las siguientes preguntas:\n",
    "\n",
    "📌 Nota Como siempre, después de cada gráfica incluid una pequeña explicación de lo que nos está mostrando la gráfica."
   ]
  },
  {
   "attachments": {},
   "cell_type": "markdown",
   "metadata": {},
   "source": [
    "1. Estableced el tamaño de las figuras al inicio de vuestro jupyter para que todas tengan las mismas dimensiones."
   ]
  },
  {
   "cell_type": "code",
   "execution_count": 3,
   "metadata": {},
   "outputs": [],
   "source": [
    "# establecer el tamaño nuestras figuras\n",
    "plt.rcParams[\"figure.figsize\"] = (7,5)\n",
    "\n",
    "# en esta lección nos van a salir muchos warning al hacer las gráficas. Para evitar que nos salgan todo el rato podemos ejecutar las siguientes lineas de código\n",
    "import warnings\n",
    "warnings.filterwarnings('ignore')"
   ]
  },
  {
   "attachments": {},
   "cell_type": "markdown",
   "metadata": {},
   "source": [
    "2. Manos a la obra con los plots, estos irán muy dirigidos hacia las preguntas que queremos contestar, para hacer una primera aproximación a nuestras hipótesis:\n",
    "\n",
    "- ¿Cuántos ataques hubo por pais? ¿Se puede ver algo claro si ploteamos todos los paises? En caso de que no, seleccionad solo los 10 paises con más ataques y volved a hacer el plot."
   ]
  },
  {
   "cell_type": "code",
   "execution_count": 4,
   "metadata": {},
   "outputs": [
    {
     "data": {
      "image/png": "[encoded data removed]",
      "text/plain": [
       "<Figure size 700x500 with 1 Axes>"
      ]
     },
     "metadata": {},
     "output_type": "display_data"
    }
   ],
   "source": [
    "sns.countplot(x = \"COUNTRY\", data = df); \n",
    "plt.show(); "
   ]
  },
  {
   "cell_type": "code",
   "execution_count": null,
   "metadata": {},
   "outputs": [],
   "source": [
    "# No se puede ver nada en esta gráfica por el gran número de paises que han sufrido ataques.\n",
    "# Vamos a seleccionar los 10 paises con mas ataques."
   ]
  },
  {
   "cell_type": "code",
   "execution_count": 5,
   "metadata": {},
   "outputs": [
    {
     "data": {
      "text/html": [
       "<div>\n",
       "<style scoped>\n",
       "    .dataframe tbody tr th:only-of-type {\n",
       "        vertical-align: middle;\n",
       "    }\n",
       "\n",
       "    .dataframe tbody tr th {\n",
       "        vertical-align: top;\n",
       "    }\n",
       "\n",
       "    .dataframe thead th {\n",
       "        text-align: right;\n",
       "    }\n",
       "</style>\n",
       "<table border=\"1\" class=\"dataframe\">\n",
       "  <thead>\n",
       "    <tr style=\"text-align: right;\">\n",
       "      <th></th>\n",
       "      <th>COUNTRY</th>\n",
       "      <th>count</th>\n",
       "      <th>percent</th>\n",
       "      <th>cumulative_count</th>\n",
       "      <th>cumulative_percent</th>\n",
       "    </tr>\n",
       "  </thead>\n",
       "  <tbody>\n",
       "    <tr>\n",
       "      <th>0</th>\n",
       "      <td>usa</td>\n",
       "      <td>725</td>\n",
       "      <td>44.975186</td>\n",
       "      <td>725</td>\n",
       "      <td>44.975186</td>\n",
       "    </tr>\n",
       "    <tr>\n",
       "      <th>1</th>\n",
       "      <td>australia</td>\n",
       "      <td>329</td>\n",
       "      <td>20.409429</td>\n",
       "      <td>1054</td>\n",
       "      <td>65.384615</td>\n",
       "    </tr>\n",
       "    <tr>\n",
       "      <th>2</th>\n",
       "      <td>south africa</td>\n",
       "      <td>228</td>\n",
       "      <td>14.143921</td>\n",
       "      <td>1282</td>\n",
       "      <td>79.528536</td>\n",
       "    </tr>\n",
       "    <tr>\n",
       "      <th>3</th>\n",
       "      <td>bahamas</td>\n",
       "      <td>27</td>\n",
       "      <td>1.674938</td>\n",
       "      <td>1309</td>\n",
       "      <td>81.203474</td>\n",
       "    </tr>\n",
       "    <tr>\n",
       "      <th>4</th>\n",
       "      <td>new zealand</td>\n",
       "      <td>21</td>\n",
       "      <td>1.302730</td>\n",
       "      <td>1330</td>\n",
       "      <td>82.506203</td>\n",
       "    </tr>\n",
       "    <tr>\n",
       "      <th>5</th>\n",
       "      <td>reunion</td>\n",
       "      <td>17</td>\n",
       "      <td>1.054591</td>\n",
       "      <td>1347</td>\n",
       "      <td>83.560794</td>\n",
       "    </tr>\n",
       "    <tr>\n",
       "      <th>6</th>\n",
       "      <td>brazil</td>\n",
       "      <td>16</td>\n",
       "      <td>0.992556</td>\n",
       "      <td>1363</td>\n",
       "      <td>84.553350</td>\n",
       "    </tr>\n",
       "    <tr>\n",
       "      <th>7</th>\n",
       "      <td>mexico</td>\n",
       "      <td>15</td>\n",
       "      <td>0.930521</td>\n",
       "      <td>1378</td>\n",
       "      <td>85.483871</td>\n",
       "    </tr>\n",
       "    <tr>\n",
       "      <th>8</th>\n",
       "      <td>papua new guinea</td>\n",
       "      <td>14</td>\n",
       "      <td>0.868486</td>\n",
       "      <td>1392</td>\n",
       "      <td>86.352357</td>\n",
       "    </tr>\n",
       "    <tr>\n",
       "      <th>9</th>\n",
       "      <td>italy</td>\n",
       "      <td>11</td>\n",
       "      <td>0.682382</td>\n",
       "      <td>1403</td>\n",
       "      <td>87.034739</td>\n",
       "    </tr>\n",
       "  </tbody>\n",
       "</table>\n",
       "</div>"
      ],
      "text/plain": [
       "            COUNTRY  count    percent  cumulative_count  cumulative_percent\n",
       "0               usa    725  44.975186               725           44.975186\n",
       "1         australia    329  20.409429              1054           65.384615\n",
       "2      south africa    228  14.143921              1282           79.528536\n",
       "3           bahamas     27   1.674938              1309           81.203474\n",
       "4       new zealand     21   1.302730              1330           82.506203\n",
       "5           reunion     17   1.054591              1347           83.560794\n",
       "6            brazil     16   0.992556              1363           84.553350\n",
       "7            mexico     15   0.930521              1378           85.483871\n",
       "8  papua new guinea     14   0.868486              1392           86.352357\n",
       "9             italy     11   0.682382              1403           87.034739"
      ]
     },
     "execution_count": 5,
     "metadata": {},
     "output_type": "execute_result"
    }
   ],
   "source": [
    "paises_mas_ataques = df.stb.freq([\"COUNTRY\"])\n",
    "diez_paises = paises_mas_ataques.head(10)\n",
    "diez_paises"
   ]
  },
  {
   "cell_type": "code",
   "execution_count": 6,
   "metadata": {},
   "outputs": [
    {
     "data": {
      "image/png": "[encoded data removed]",
      "text/plain": [
       "<Figure size 700x500 with 1 Axes>"
      ]
     },
     "metadata": {},
     "output_type": "display_data"
    }
   ],
   "source": [
    "sns.histplot(x= \"COUNTRY\", y='count', data = diez_paises, palette = \"mako\")   \n",
    "plt.xticks(rotation=45);\n"
   ]
  },
  {
   "attachments": {},
   "cell_type": "markdown",
   "metadata": {},
   "source": [
    "- Usando el DataFrame de los 10 paises con más ataques."
   ]
  },
  {
   "cell_type": "code",
   "execution_count": 7,
   "metadata": {},
   "outputs": [
    {
     "data": {
      "text/plain": [
       "array(['usa', 'australia', 'south africa', 'bahamas', 'new zealand',\n",
       "       'reunion', 'brazil', 'mexico', 'papua new guinea', 'italy'],\n",
       "      dtype=object)"
      ]
     },
     "execution_count": 7,
     "metadata": {},
     "output_type": "execute_result"
    }
   ],
   "source": [
    "lista_diez_paises = diez_paises[\"COUNTRY\"].values\n",
    "lista_diez_paises"
   ]
  },
  {
   "cell_type": "code",
   "execution_count": 8,
   "metadata": {},
   "outputs": [
    {
     "data": {
      "text/html": [
       "<div>\n",
       "<style scoped>\n",
       "    .dataframe tbody tr th:only-of-type {\n",
       "        vertical-align: middle;\n",
       "    }\n",
       "\n",
       "    .dataframe tbody tr th {\n",
       "        vertical-align: top;\n",
       "    }\n",
       "\n",
       "    .dataframe thead th {\n",
       "        text-align: right;\n",
       "    }\n",
       "</style>\n",
       "<table border=\"1\" class=\"dataframe\">\n",
       "  <thead>\n",
       "    <tr style=\"text-align: right;\">\n",
       "      <th></th>\n",
       "      <th>YEAR</th>\n",
       "      <th>COUNTRY</th>\n",
       "      <th>SEX_</th>\n",
       "      <th>AGE</th>\n",
       "      <th>SPECIES_</th>\n",
       "      <th>fecha</th>\n",
       "      <th>FATALIDAD</th>\n",
       "    </tr>\n",
       "  </thead>\n",
       "  <tbody>\n",
       "    <tr>\n",
       "      <th>0</th>\n",
       "      <td>2018</td>\n",
       "      <td>usa</td>\n",
       "      <td>F</td>\n",
       "      <td>57</td>\n",
       "      <td>White shark</td>\n",
       "      <td>NaN</td>\n",
       "      <td>N</td>\n",
       "    </tr>\n",
       "    <tr>\n",
       "      <th>1</th>\n",
       "      <td>2018</td>\n",
       "      <td>brazil</td>\n",
       "      <td>M</td>\n",
       "      <td>18</td>\n",
       "      <td>Tiger shark</td>\n",
       "      <td>NaN</td>\n",
       "      <td>N</td>\n",
       "    </tr>\n",
       "    <tr>\n",
       "      <th>2</th>\n",
       "      <td>2018</td>\n",
       "      <td>usa</td>\n",
       "      <td>M</td>\n",
       "      <td>15</td>\n",
       "      <td>Bull shark, 6'</td>\n",
       "      <td>NaN</td>\n",
       "      <td>N</td>\n",
       "    </tr>\n",
       "    <tr>\n",
       "      <th>3</th>\n",
       "      <td>2018</td>\n",
       "      <td>australia</td>\n",
       "      <td>M</td>\n",
       "      <td>32</td>\n",
       "      <td>Grey reef shark</td>\n",
       "      <td>NaN</td>\n",
       "      <td>N</td>\n",
       "    </tr>\n",
       "    <tr>\n",
       "      <th>6</th>\n",
       "      <td>2018</td>\n",
       "      <td>australia</td>\n",
       "      <td>M</td>\n",
       "      <td>60</td>\n",
       "      <td>3 m shark</td>\n",
       "      <td>NaN</td>\n",
       "      <td>N</td>\n",
       "    </tr>\n",
       "    <tr>\n",
       "      <th>...</th>\n",
       "      <td>...</td>\n",
       "      <td>...</td>\n",
       "      <td>...</td>\n",
       "      <td>...</td>\n",
       "      <td>...</td>\n",
       "      <td>...</td>\n",
       "      <td>...</td>\n",
       "    </tr>\n",
       "    <tr>\n",
       "      <th>1641</th>\n",
       "      <td>0</td>\n",
       "      <td>papua new guinea</td>\n",
       "      <td>NaN</td>\n",
       "      <td>NaN</td>\n",
       "      <td>NaN</td>\n",
       "      <td>NaN</td>\n",
       "      <td>N</td>\n",
       "    </tr>\n",
       "    <tr>\n",
       "      <th>1644</th>\n",
       "      <td>0</td>\n",
       "      <td>italy</td>\n",
       "      <td>NaN</td>\n",
       "      <td>NaN</td>\n",
       "      <td>NaN</td>\n",
       "      <td>NaN</td>\n",
       "      <td>N</td>\n",
       "    </tr>\n",
       "    <tr>\n",
       "      <th>1647</th>\n",
       "      <td>0</td>\n",
       "      <td>australia</td>\n",
       "      <td>NaN</td>\n",
       "      <td>NaN</td>\n",
       "      <td>NaN</td>\n",
       "      <td>NaN</td>\n",
       "      <td>NaN</td>\n",
       "    </tr>\n",
       "    <tr>\n",
       "      <th>1648</th>\n",
       "      <td>0</td>\n",
       "      <td>reunion</td>\n",
       "      <td>NaN</td>\n",
       "      <td>NaN</td>\n",
       "      <td>NaN</td>\n",
       "      <td>NaN</td>\n",
       "      <td>Y</td>\n",
       "    </tr>\n",
       "    <tr>\n",
       "      <th>1649</th>\n",
       "      <td>0</td>\n",
       "      <td>south africa</td>\n",
       "      <td>NaN</td>\n",
       "      <td>NaN</td>\n",
       "      <td>NaN</td>\n",
       "      <td>NaN</td>\n",
       "      <td>N</td>\n",
       "    </tr>\n",
       "  </tbody>\n",
       "</table>\n",
       "<p>1403 rows × 7 columns</p>\n",
       "</div>"
      ],
      "text/plain": [
       "      YEAR           COUNTRY SEX_  AGE         SPECIES_ fecha FATALIDAD\n",
       "0     2018               usa    F   57      White shark   NaN         N\n",
       "1     2018            brazil    M   18      Tiger shark   NaN         N\n",
       "2     2018               usa    M   15   Bull shark, 6'   NaN         N\n",
       "3     2018         australia    M   32  Grey reef shark   NaN         N\n",
       "6     2018         australia    M   60        3 m shark   NaN         N\n",
       "...    ...               ...  ...  ...              ...   ...       ...\n",
       "1641     0  papua new guinea  NaN  NaN              NaN   NaN         N\n",
       "1644     0             italy  NaN  NaN              NaN   NaN         N\n",
       "1647     0         australia  NaN  NaN              NaN   NaN       NaN\n",
       "1648     0           reunion  NaN  NaN              NaN   NaN         Y\n",
       "1649     0      south africa  NaN  NaN              NaN   NaN         N\n",
       "\n",
       "[1403 rows x 7 columns]"
      ]
     },
     "execution_count": 8,
     "metadata": {},
     "output_type": "execute_result"
    }
   ],
   "source": [
    "df_diez_paises= df[df[\"COUNTRY\"].isin(lista_diez_paises)]\n",
    "df_diez_paises"
   ]
  },
  {
   "attachments": {},
   "cell_type": "markdown",
   "metadata": {},
   "source": [
    "¿hay diferencias entre sexos en esos paises?"
   ]
  },
  {
   "cell_type": "code",
   "execution_count": 9,
   "metadata": {},
   "outputs": [
    {
     "data": {
      "image/png": "[encoded data removed]",
      "text/plain": [
       "<Figure size 700x500 with 1 Axes>"
      ]
     },
     "metadata": {},
     "output_type": "display_data"
    }
   ],
   "source": [
    "sns.countplot(x= \"COUNTRY\", data = df_diez_paises, palette = \"mako\", hue= \"SEX_\")   \n",
    "plt.xticks(rotation=45);"
   ]
  },
  {
   "cell_type": "code",
   "execution_count": null,
   "metadata": {},
   "outputs": [],
   "source": [
    "# Hay diferencia entre sexos en los ataques siendo los hombres más atacados que las mujeres.\n",
    "# En el caso de Estados Unidos "
   ]
  },
  {
   "attachments": {},
   "cell_type": "markdown",
   "metadata": {},
   "source": [
    "¿Qué edad recibe mayor número de ataques?\n",
    "\n",
    "💡 Pista 💡 Para que esta gráfica nos salga legible tendremos que crear antes grupos de edad. Para hacer esto de una forma sencilla tenemos el método pd.cut() que aprendimos en la lección de Limpieza II."
   ]
  },
  {
   "cell_type": "code",
   "execution_count": 13,
   "metadata": {},
   "outputs": [
    {
     "data": {
      "text/plain": [
       "dtype('O')"
      ]
     },
     "execution_count": 13,
     "metadata": {},
     "output_type": "execute_result"
    }
   ],
   "source": [
    "df_diez_paises[\"AGE\"].dtype"
   ]
  },
  {
   "cell_type": "code",
   "execution_count": 26,
   "metadata": {},
   "outputs": [
    {
     "data": {
      "text/plain": [
       "<bound method Series.dropna of 0        57\n",
       "1        18\n",
       "2        15\n",
       "3        32\n",
       "6        60\n",
       "       ... \n",
       "1641    NaN\n",
       "1644    NaN\n",
       "1647    NaN\n",
       "1648    NaN\n",
       "1649    NaN\n",
       "Name: AGE, Length: 1403, dtype: object>"
      ]
     },
     "execution_count": 26,
     "metadata": {},
     "output_type": "execute_result"
    }
   ],
   "source": [
    "df_diez_paises[\"AGE\"].dropna"
   ]
  },
  {
   "cell_type": "code",
   "execution_count": 27,
   "metadata": {},
   "outputs": [
    {
     "data": {
      "text/plain": [
       "<bound method Series.unique of 0        57\n",
       "1        18\n",
       "2        15\n",
       "3        32\n",
       "6        60\n",
       "       ... \n",
       "1641    NaN\n",
       "1644    NaN\n",
       "1647    NaN\n",
       "1648    NaN\n",
       "1649    NaN\n",
       "Name: AGE, Length: 1403, dtype: object>"
      ]
     },
     "execution_count": 27,
     "metadata": {},
     "output_type": "execute_result"
    }
   ],
   "source": [
    "df_diez_paises[\"AGE\"].unique"
   ]
  },
  {
   "cell_type": "code",
   "execution_count": 22,
   "metadata": {},
   "outputs": [
    {
     "data": {
      "text/plain": [
       "0        57\n",
       "1        18\n",
       "2        15\n",
       "3        32\n",
       "6        60\n",
       "       ... \n",
       "1641    NaN\n",
       "1644    NaN\n",
       "1647    NaN\n",
       "1648    NaN\n",
       "1649    NaN\n",
       "Name: AGE, Length: 1403, dtype: object"
      ]
     },
     "execution_count": 22,
     "metadata": {},
     "output_type": "execute_result"
    }
   ],
   "source": [
    "df_diez_paises[\"AGE\"].astype(int, errors='ignore')"
   ]
  },
  {
   "cell_type": "code",
   "execution_count": 23,
   "metadata": {},
   "outputs": [
    {
     "data": {
      "text/plain": [
       "dtype('O')"
      ]
     },
     "execution_count": 23,
     "metadata": {},
     "output_type": "execute_result"
    }
   ],
   "source": [
    "df_diez_paises[\"AGE\"].dtypes"
   ]
  },
  {
   "cell_type": "code",
   "execution_count": 17,
   "metadata": {},
   "outputs": [
    {
     "ename": "TypeError",
     "evalue": "'<=' not supported between instances of 'str' and 'float'",
     "output_type": "error",
     "traceback": [
      "\u001b[1;31m---------------------------------------------------------------------------\u001b[0m",
      "\u001b[1;31mTypeError\u001b[0m                                 Traceback (most recent call last)",
      "Cell \u001b[1;32mIn [17], line 1\u001b[0m\n\u001b[1;32m----> 1\u001b[0m df_diez_paises [\u001b[39m\"\u001b[39m\u001b[39mrangos\u001b[39m\u001b[39m\"\u001b[39m] \u001b[39m=\u001b[39m pd\u001b[39m.\u001b[39;49mcut(df_diez_paises[\u001b[39m\"\u001b[39;49m\u001b[39mAGE\u001b[39;49m\u001b[39m\"\u001b[39;49m], \u001b[39m3\u001b[39;49m, labels \u001b[39m=\u001b[39;49m [\u001b[39m\"\u001b[39;49m\u001b[39mJOVENES\u001b[39;49m\u001b[39m\"\u001b[39;49m, \u001b[39m\"\u001b[39;49m\u001b[39mADULTOS\u001b[39;49m\u001b[39m\"\u001b[39;49m, \u001b[39m\"\u001b[39;49m\u001b[39mANCIANOS\u001b[39;49m\u001b[39m\"\u001b[39;49m])\n",
      "File \u001b[1;32m~\\AppData\\Local\\Packages\\PythonSoftwareFoundation.Python.3.10_qbz5n2kfra8p0\\LocalCache\\local-packages\\Python310\\site-packages\\pandas\\core\\reshape\\tile.py:258\u001b[0m, in \u001b[0;36mcut\u001b[1;34m(x, bins, right, labels, retbins, precision, include_lowest, duplicates, ordered)\u001b[0m\n\u001b[0;32m    255\u001b[0m \u001b[39mif\u001b[39;00m sz \u001b[39m==\u001b[39m \u001b[39m0\u001b[39m:\n\u001b[0;32m    256\u001b[0m     \u001b[39mraise\u001b[39;00m \u001b[39mValueError\u001b[39;00m(\u001b[39m\"\u001b[39m\u001b[39mCannot cut empty array\u001b[39m\u001b[39m\"\u001b[39m)\n\u001b[1;32m--> 258\u001b[0m rng \u001b[39m=\u001b[39m (nanops\u001b[39m.\u001b[39;49mnanmin(x), nanops\u001b[39m.\u001b[39mnanmax(x))\n\u001b[0;32m    259\u001b[0m mn, mx \u001b[39m=\u001b[39m (mi \u001b[39m+\u001b[39m \u001b[39m0.0\u001b[39m \u001b[39mfor\u001b[39;00m mi \u001b[39min\u001b[39;00m rng)\n\u001b[0;32m    261\u001b[0m \u001b[39mif\u001b[39;00m np\u001b[39m.\u001b[39misinf(mn) \u001b[39mor\u001b[39;00m np\u001b[39m.\u001b[39misinf(mx):\n\u001b[0;32m    262\u001b[0m     \u001b[39m# GH 24314\u001b[39;00m\n",
      "File \u001b[1;32m~\\AppData\\Local\\Packages\\PythonSoftwareFoundation.Python.3.10_qbz5n2kfra8p0\\LocalCache\\local-packages\\Python310\\site-packages\\pandas\\core\\nanops.py:155\u001b[0m, in \u001b[0;36mbottleneck_switch.__call__.<locals>.f\u001b[1;34m(values, axis, skipna, **kwds)\u001b[0m\n\u001b[0;32m    153\u001b[0m         result \u001b[39m=\u001b[39m alt(values, axis\u001b[39m=\u001b[39maxis, skipna\u001b[39m=\u001b[39mskipna, \u001b[39m*\u001b[39m\u001b[39m*\u001b[39mkwds)\n\u001b[0;32m    154\u001b[0m \u001b[39melse\u001b[39;00m:\n\u001b[1;32m--> 155\u001b[0m     result \u001b[39m=\u001b[39m alt(values, axis\u001b[39m=\u001b[39maxis, skipna\u001b[39m=\u001b[39mskipna, \u001b[39m*\u001b[39m\u001b[39m*\u001b[39mkwds)\n\u001b[0;32m    157\u001b[0m \u001b[39mreturn\u001b[39;00m result\n",
      "File \u001b[1;32m~\\AppData\\Local\\Packages\\PythonSoftwareFoundation.Python.3.10_qbz5n2kfra8p0\\LocalCache\\local-packages\\Python310\\site-packages\\pandas\\core\\nanops.py:418\u001b[0m, in \u001b[0;36m_datetimelike_compat.<locals>.new_func\u001b[1;34m(values, axis, skipna, mask, **kwargs)\u001b[0m\n\u001b[0;32m    415\u001b[0m \u001b[39mif\u001b[39;00m datetimelike \u001b[39mand\u001b[39;00m mask \u001b[39mis\u001b[39;00m \u001b[39mNone\u001b[39;00m:\n\u001b[0;32m    416\u001b[0m     mask \u001b[39m=\u001b[39m isna(values)\n\u001b[1;32m--> 418\u001b[0m result \u001b[39m=\u001b[39m func(values, axis\u001b[39m=\u001b[39maxis, skipna\u001b[39m=\u001b[39mskipna, mask\u001b[39m=\u001b[39mmask, \u001b[39m*\u001b[39m\u001b[39m*\u001b[39mkwargs)\n\u001b[0;32m    420\u001b[0m \u001b[39mif\u001b[39;00m datetimelike:\n\u001b[0;32m    421\u001b[0m     result \u001b[39m=\u001b[39m _wrap_results(result, orig_values\u001b[39m.\u001b[39mdtype, fill_value\u001b[39m=\u001b[39miNaT)\n",
      "File \u001b[1;32m~\\AppData\\Local\\Packages\\PythonSoftwareFoundation.Python.3.10_qbz5n2kfra8p0\\LocalCache\\local-packages\\Python310\\site-packages\\pandas\\core\\nanops.py:1051\u001b[0m, in \u001b[0;36m_nanminmax.<locals>.reduction\u001b[1;34m(values, axis, skipna, mask)\u001b[0m\n\u001b[0;32m   1049\u001b[0m         result \u001b[39m=\u001b[39m np\u001b[39m.\u001b[39mnan\n\u001b[0;32m   1050\u001b[0m \u001b[39melse\u001b[39;00m:\n\u001b[1;32m-> 1051\u001b[0m     result \u001b[39m=\u001b[39m \u001b[39mgetattr\u001b[39;49m(values, meth)(axis)\n\u001b[0;32m   1053\u001b[0m result \u001b[39m=\u001b[39m _maybe_null_out(result, axis, mask, values\u001b[39m.\u001b[39mshape)\n\u001b[0;32m   1054\u001b[0m \u001b[39mreturn\u001b[39;00m result\n",
      "File \u001b[1;32m~\\AppData\\Local\\Packages\\PythonSoftwareFoundation.Python.3.10_qbz5n2kfra8p0\\LocalCache\\local-packages\\Python310\\site-packages\\numpy\\core\\_methods.py:44\u001b[0m, in \u001b[0;36m_amin\u001b[1;34m(a, axis, out, keepdims, initial, where)\u001b[0m\n\u001b[0;32m     42\u001b[0m \u001b[39mdef\u001b[39;00m \u001b[39m_amin\u001b[39m(a, axis\u001b[39m=\u001b[39m\u001b[39mNone\u001b[39;00m, out\u001b[39m=\u001b[39m\u001b[39mNone\u001b[39;00m, keepdims\u001b[39m=\u001b[39m\u001b[39mFalse\u001b[39;00m,\n\u001b[0;32m     43\u001b[0m           initial\u001b[39m=\u001b[39m_NoValue, where\u001b[39m=\u001b[39m\u001b[39mTrue\u001b[39;00m):\n\u001b[1;32m---> 44\u001b[0m     \u001b[39mreturn\u001b[39;00m umr_minimum(a, axis, \u001b[39mNone\u001b[39;49;00m, out, keepdims, initial, where)\n",
      "\u001b[1;31mTypeError\u001b[0m: '<=' not supported between instances of 'str' and 'float'"
     ]
    }
   ],
   "source": [
    "df_diez_paises [\"rangos\"] = pd.cut(df_diez_paises[\"AGE\"], 3, labels = [\"JOVENES\", \"ADULTOS\", \"ANCIANOS\"])"
   ]
  },
  {
   "attachments": {},
   "cell_type": "markdown",
   "metadata": {},
   "source": [
    "- Ataques entre sexos, ¿hay diferencia?"
   ]
  },
  {
   "cell_type": "code",
   "execution_count": null,
   "metadata": {},
   "outputs": [],
   "source": []
  },
  {
   "attachments": {},
   "cell_type": "markdown",
   "metadata": {},
   "source": [
    "- ¿Cuando ocurren más ataques? ¿Os sale algo raro en la gráfica? Intentad limpiar un poco los datos para que os salga mejor."
   ]
  },
  {
   "cell_type": "code",
   "execution_count": null,
   "metadata": {},
   "outputs": [],
   "source": []
  },
  {
   "attachments": {},
   "cell_type": "markdown",
   "metadata": {},
   "source": [
    "Podríamos hacer más gráficas para seguir explorando nuestras hipótesis, pero tenemos el tiempo limitado 😢. Aún así, sentiros libres de explorar todo lo que queráis vuestros datos para entenderlos mejor 😉."
   ]
  }
 ],
 "metadata": {
  "kernelspec": {
   "display_name": "Python 3",
   "language": "python",
   "name": "python3"
  },
  "language_info": {
   "codemirror_mode": {
    "name": "ipython",
    "version": 3
   },
   "file_extension": ".py",
   "mimetype": "text/x-python",
   "name": "python",
   "nbconvert_exporter": "python",
   "pygments_lexer": "ipython3",
   "version": "3.10.9 (tags/v3.10.9:1dd9be6, Dec  6 2022, 20:01:21) [MSC v.1934 64 bit (AMD64)]"
  },
  "orig_nbformat": 4,
  "vscode": {
   "interpreter": {
    "hash": "386358fdc1fd0de6900d07d882f42fc953f23690ede61ed9b4d9d7c82a6402d7"
   }
  }
 },
 "nbformat": 4,
 "nbformat_minor": 2
}
